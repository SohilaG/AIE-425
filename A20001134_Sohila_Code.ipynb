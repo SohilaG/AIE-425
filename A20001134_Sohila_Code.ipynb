{
  "nbformat": 4,
  "nbformat_minor": 0,
  "metadata": {
    "colab": {
      "provenance": [],
      "gpuType": "V28"
    },
    "kernelspec": {
      "name": "python3",
      "display_name": "Python 3"
    },
    "language_info": {
      "name": "python"
    },
    "accelerator": "TPU"
  },
  "cells": [
    {
      "cell_type": "code",
      "source": [
        "import pandas as pd\n",
        "import numpy as np\n",
        "\n",
        "# Step 1: Load the dataset\n",
        "dataset_path = '/content/dataset.csv'\n",
        "df = pd.read_csv(dataset_path)\n",
        "\n",
        "# Step 2: Extract track names (adjust the column name based on the dataset)\n",
        "track_names = df['track_name']  # Replace 'track_name' with the actual column name\n",
        "\n",
        "# Step 3: Generate random ratings (1-5) and some NaNs\n",
        "num_users = 50\n",
        "ratings = np.random.randint(1, 6, size=(len(track_names), num_users))  # Ratings from 1 to 5\n",
        "\n",
        "# Step 4: Introduce NaNs based on a set probability (e.g., 20% chance of NaN)\n",
        "nan_probability = 0.2  # 20% probability of NaN\n",
        "nan_mask = np.random.rand(len(track_names), num_users) < nan_probability\n",
        "ratings = ratings.astype(float)  # Convert to float to allow NaNs\n",
        "ratings[nan_mask] = np.nan\n",
        "\n",
        "# Step 5: Create a new DataFrame with ratings and track names\n",
        "ratings_df = pd.DataFrame(ratings, columns=[f'user_{i+1}' for i in range(num_users)])\n",
        "ratings_df['track_name'] = track_names.values\n",
        "\n",
        "# Step 6: Rearrange columns to have track_name first\n",
        "ratings_df = ratings_df[['track_name'] + [f'user_{i+1}' for i in range(num_users)]]\n",
        "\n",
        "# Step 7: Save the new dataset\n",
        "ratings_df.to_csv('spotify_tracks_with_random_ratings.csv', index=False)\n",
        "\n",
        "print(\"New dataset created with track names and random ratings (with NaNs)!\")\n"
      ],
      "metadata": {
        "colab": {
          "base_uri": "https://localhost:8080/"
        },
        "id": "ligJyBJZQ-Tu",
        "outputId": "c7f02a52-a623-4a6c-fa21-2c6c4000fea8"
      },
      "execution_count": 10,
      "outputs": [
        {
          "output_type": "stream",
          "name": "stdout",
          "text": [
            "New dataset created with track names and random ratings (with NaNs)!\n"
          ]
        }
      ]
    },
    {
      "cell_type": "code",
      "source": [
        "import pandas as pd\n",
        "import numpy as np\n",
        "from sklearn.metrics.pairwise import cosine_similarity\n",
        "\n",
        "# Load the dataset (replace 'spotify_tracks_with_random_ratings.csv' with your actual file path)\n",
        "ratings_df = pd.read_csv('spotify_tracks_with_random_ratings.csv')\n",
        "ratings_df.set_index('track_name', inplace=True)\n",
        "\n",
        "# Transpose the DataFrame for user-based filtering (users as rows, items as columns)\n",
        "ratings_user_based = ratings_df.T\n"
      ],
      "metadata": {
        "id": "6oDiFh3hSe2s"
      },
      "execution_count": 11,
      "outputs": []
    },
    {
      "cell_type": "code",
      "source": [
        "# Fill NaN with 0 for similarity calculation (optional - depends on method)\n",
        "ratings_user_filled = ratings_user_based.fillna(0)\n",
        "user_cosine_sim = cosine_similarity(ratings_user_filled)\n",
        "\n",
        "# Convert to a DataFrame for easier access\n",
        "user_cosine_sim_df = pd.DataFrame(user_cosine_sim, index=ratings_user_based.index, columns=ratings_user_based.index)\n"
      ],
      "metadata": {
        "id": "FP4LGDqRS6Q9"
      },
      "execution_count": 12,
      "outputs": []
    },
    {
      "cell_type": "code",
      "source": [
        "user_pearson_corr = ratings_user_based.corr(method='pearson')"
      ],
      "metadata": {
        "id": "aLOL60lFS-Yu"
      },
      "execution_count": 13,
      "outputs": []
    },
    {
      "cell_type": "code",
      "source": [
        "# Fill NaN with 0 for item-based similarity calculation\n",
        "ratings_item_filled = ratings_df.fillna(0)\n",
        "item_cosine_sim = cosine_similarity(ratings_item_filled)\n",
        "\n",
        "# Convert to a DataFrame for easier access\n",
        "item_cosine_sim_df = pd.DataFrame(item_cosine_sim, index=ratings_df.index, columns=ratings_df.index)\n"
      ],
      "metadata": {
        "id": "ISqRUXg3TB46"
      },
      "execution_count": 14,
      "outputs": []
    },
    {
      "cell_type": "code",
      "source": [
        "item_pearson_corr = ratings_df.corr(method='pearson')"
      ],
      "metadata": {
        "id": "UCalY219TKzE"
      },
      "execution_count": 15,
      "outputs": []
    },
    {
      "cell_type": "code",
      "source": [
        "def predict_user_based(user_id, item_id, similarity_df, ratings_matrix):\n",
        "    # Get similar users and their similarities\n",
        "    sim_users = similarity_df[user_id]\n",
        "\n",
        "    # Extract the ratings of similar users for the target item\n",
        "    sim_ratings = ratings_matrix[item_id]\n",
        "\n",
        "    # Weighted average of ratings with similarity weights, ignoring NaNs\n",
        "    numerator = np.nansum(sim_users * sim_ratings)\n",
        "    denominator = np.nansum(np.abs(sim_users))\n",
        "\n",
        "    # Return the prediction or NaN if denominator is zero (no similar users)\n",
        "    return numerator / denominator if denominator != 0 else np.nan\n",
        "\n",
        "# Example: Predict rating for user 'user_1' on item 'track_name_1'\n",
        "user_id = 'user_1'\n",
        "item_id = 'Comedy'\n",
        "user_based_prediction = predict_user_based(user_id, item_id, user_cosine_sim_df, ratings_user_based)\n",
        "print(f\"User-based prediction for user '{user_id}' on item '{item_id}':\", user_based_prediction)\n"
      ],
      "metadata": {
        "id": "WvOQOZVMXQ4N",
        "outputId": "bd4a9834-432c-4431-f283-de1268d903af",
        "colab": {
          "base_uri": "https://localhost:8080/"
        }
      },
      "execution_count": 19,
      "outputs": [
        {
          "output_type": "stream",
          "name": "stdout",
          "text": [
            "User-based prediction for user 'user_1' on item 'Comedy': 2.3057887992016752\n"
          ]
        }
      ]
    },
    {
      "cell_type": "code",
      "source": [
        "def predict_item_based(user_id, item_id, similarity_df, ratings_matrix):\n",
        "    # Get similar items and their similarities\n",
        "    sim_items = similarity_df[item_id]\n",
        "\n",
        "    # Extract the ratings for the target user across similar items\n",
        "    sim_ratings = ratings_matrix.loc[user_id]\n",
        "\n",
        "    # Weighted average of ratings with similarity weights, ignoring NaNs\n",
        "    numerator = np.nansum(sim_items * sim_ratings)\n",
        "    denominator = np.nansum(np.abs(sim_items))\n",
        "\n",
        "    # Return the prediction or NaN if denominator is zero (no similar items)\n",
        "    return numerator / denominator if denominator != 0 else np.nan\n",
        "\n",
        "# Example: Predict rating for user 'user_1' on item 'track_name_1'\n",
        "item_based_prediction = predict_item_based(user_id, item_id, item_cosine_sim_df, ratings_df.T)\n",
        "print(f\"Item-based prediction for user '{user_id}' on item '{item_id}':\", item_based_prediction)\n"
      ],
      "metadata": {
        "id": "F5sfPKprTOXx",
        "outputId": "88911896-2394-49ed-91b6-8a8a12ea5e5d",
        "colab": {
          "base_uri": "https://localhost:8080/"
        }
      },
      "execution_count": 20,
      "outputs": [
        {
          "output_type": "stream",
          "name": "stdout",
          "text": [
            "Item-based prediction for user 'user_1' on item 'Comedy': 2.4246244712137104\n"
          ]
        }
      ]
    }
  ]
}